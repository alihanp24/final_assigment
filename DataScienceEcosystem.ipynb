{
 "cells": [
  {
   "cell_type": "markdown",
   "id": "14922154-01fc-47f4-8369-23c991000d86",
   "metadata": {},
   "source": [
    "# Data Science Tools and Ecosystem"
   ]
  },
  {
   "cell_type": "markdown",
   "id": "2b1fbdf4-cdf6-4970-9ecd-5b01e316df53",
   "metadata": {},
   "source": [
    "In this notebook, Data Science Tools and Ecosystem are summarized."
   ]
  },
  {
   "cell_type": "markdown",
   "id": "4af90105-2cca-4a79-b726-5bd88ef18493",
   "metadata": {},
   "source": [
    "Some of the popular languages that Data Scientists use are:\n",
    "1. Python\n",
    "2. R\n",
    "3. Java\n"
   ]
  },
  {
   "cell_type": "markdown",
   "id": "cde31521-8b6c-491c-ae47-ba680ad1ee17",
   "metadata": {},
   "source": [
    "Some of the commonly used libraries used by Data Scientists include:\n",
    "1. TensorFlow\n",
    "2. Pandas\n",
    "3. NumPy"
   ]
  },
  {
   "cell_type": "markdown",
   "id": "e1b0f3cf-ad0b-415a-a5ec-61af8ce20a06",
   "metadata": {},
   "source": [
    "| Data Science Tools |\n",
    "|-------------|\n",
    "| Jupyter Notebooks |\n",
    "| Pytorch |\n",
    "| MLFlow |\n"
   ]
  },
  {
   "cell_type": "markdown",
   "id": "af9af66f-95a0-4ab1-b4a7-f1d2c8813383",
   "metadata": {},
   "source": [
    "### Below are a few examples of evaluating arithmetic expressions in Python"
   ]
  },
  {
   "cell_type": "code",
   "execution_count": 3,
   "id": "a8475bf8-ac49-46c3-8772-11afa07962c7",
   "metadata": {
    "tags": []
   },
   "outputs": [
    {
     "data": {
      "text/plain": [
       "17"
      ]
     },
     "execution_count": 3,
     "metadata": {},
     "output_type": "execute_result"
    }
   ],
   "source": [
    "# This is a simple arithmetic expression to multiply then add integers\n",
    "(3*4)+5"
   ]
  },
  {
   "cell_type": "code",
   "execution_count": 4,
   "id": "34f1dbbe-efb3-456e-b95c-7000db857e5a",
   "metadata": {
    "tags": []
   },
   "outputs": [
    {
     "data": {
      "text/plain": [
       "3.3333333333333335"
      ]
     },
     "execution_count": 4,
     "metadata": {},
     "output_type": "execute_result"
    }
   ],
   "source": [
    "# This will convert 200 minutes to hours by dividing by 60\n",
    "200 / 60 "
   ]
  },
  {
   "cell_type": "markdown",
   "id": "9ab56588-2221-4ecc-961a-97108d9c503f",
   "metadata": {},
   "source": [
    "**Objectives:**\n",
    "+ List libraries used by Data Scientists\n",
    "+ Create a table of Data Science Tools \n",
    "+ Create a code cell to convert minutes to hours"
   ]
  },
  {
   "cell_type": "markdown",
   "id": "af72b75b-695a-435b-a8ef-8adc19b8ec42",
   "metadata": {},
   "source": [
    "## Author\n",
    "Alihan POLAT"
   ]
  },
  {
   "cell_type": "code",
   "execution_count": null,
   "id": "ee7dd9ca-d259-49b6-be92-0679e5b65b7f",
   "metadata": {},
   "outputs": [],
   "source": []
  }
 ],
 "metadata": {
  "kernelspec": {
   "display_name": "Python",
   "language": "python",
   "name": "conda-env-python-py"
  },
  "language_info": {
   "codemirror_mode": {
    "name": "ipython",
    "version": 3
   },
   "file_extension": ".py",
   "mimetype": "text/x-python",
   "name": "python",
   "nbconvert_exporter": "python",
   "pygments_lexer": "ipython3",
   "version": "3.7.12"
  }
 },
 "nbformat": 4,
 "nbformat_minor": 5
}
